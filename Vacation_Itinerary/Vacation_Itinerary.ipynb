{
 "cells": [
  {
   "cell_type": "markdown",
   "metadata": {},
   "source": [
    "## Deliverable 3. Create a Travel Itinerary Map."
   ]
  },
  {
   "cell_type": "code",
   "execution_count": 1,
   "metadata": {},
   "outputs": [],
   "source": [
    "# Dependencies and Setup\n",
    "import pandas as pd\n",
    "import requests\n",
    "import gmaps\n",
    "\n",
    "# Import API key\n",
    "from config import g_key\n",
    "\n",
    "# Configure gmaps\n",
    "gmaps.configure(api_key=g_key)"
   ]
  },
  {
   "cell_type": "code",
   "execution_count": 2,
   "metadata": {},
   "outputs": [
    {
     "data": {
      "text/html": [
       "<div>\n",
       "<style scoped>\n",
       "    .dataframe tbody tr th:only-of-type {\n",
       "        vertical-align: middle;\n",
       "    }\n",
       "\n",
       "    .dataframe tbody tr th {\n",
       "        vertical-align: top;\n",
       "    }\n",
       "\n",
       "    .dataframe thead th {\n",
       "        text-align: right;\n",
       "    }\n",
       "</style>\n",
       "<table border=\"1\" class=\"dataframe\">\n",
       "  <thead>\n",
       "    <tr style=\"text-align: right;\">\n",
       "      <th></th>\n",
       "      <th>City_ID</th>\n",
       "      <th>City</th>\n",
       "      <th>Country</th>\n",
       "      <th>Max Temp</th>\n",
       "      <th>Current Description</th>\n",
       "      <th>Lat</th>\n",
       "      <th>Lng</th>\n",
       "      <th>Hotel Name</th>\n",
       "    </tr>\n",
       "  </thead>\n",
       "  <tbody>\n",
       "    <tr>\n",
       "      <th>0</th>\n",
       "      <td>2</td>\n",
       "      <td>Kapaa</td>\n",
       "      <td>US</td>\n",
       "      <td>82.38</td>\n",
       "      <td>few clouds</td>\n",
       "      <td>22.0752</td>\n",
       "      <td>-159.3190</td>\n",
       "      <td>Sheraton Kauai Coconut Beach Resort</td>\n",
       "    </tr>\n",
       "    <tr>\n",
       "      <th>1</th>\n",
       "      <td>4</td>\n",
       "      <td>Geraldton</td>\n",
       "      <td>AU</td>\n",
       "      <td>70.21</td>\n",
       "      <td>scattered clouds</td>\n",
       "      <td>-28.7667</td>\n",
       "      <td>114.6000</td>\n",
       "      <td>Broadwater Mariner Resort</td>\n",
       "    </tr>\n",
       "    <tr>\n",
       "      <th>2</th>\n",
       "      <td>5</td>\n",
       "      <td>Tondano</td>\n",
       "      <td>ID</td>\n",
       "      <td>77.09</td>\n",
       "      <td>scattered clouds</td>\n",
       "      <td>1.3038</td>\n",
       "      <td>124.9112</td>\n",
       "      <td>Villa Bella</td>\n",
       "    </tr>\n",
       "    <tr>\n",
       "      <th>3</th>\n",
       "      <td>6</td>\n",
       "      <td>Taseyevo</td>\n",
       "      <td>RU</td>\n",
       "      <td>76.10</td>\n",
       "      <td>broken clouds</td>\n",
       "      <td>57.2169</td>\n",
       "      <td>94.8978</td>\n",
       "      <td>Gostinitsa Taseyevo</td>\n",
       "    </tr>\n",
       "    <tr>\n",
       "      <th>4</th>\n",
       "      <td>7</td>\n",
       "      <td>Labuhan</td>\n",
       "      <td>ID</td>\n",
       "      <td>82.54</td>\n",
       "      <td>overcast clouds</td>\n",
       "      <td>-6.8844</td>\n",
       "      <td>112.2051</td>\n",
       "      <td>DoubleFAG</td>\n",
       "    </tr>\n",
       "    <tr>\n",
       "      <th>...</th>\n",
       "      <td>...</td>\n",
       "      <td>...</td>\n",
       "      <td>...</td>\n",
       "      <td>...</td>\n",
       "      <td>...</td>\n",
       "      <td>...</td>\n",
       "      <td>...</td>\n",
       "      <td>...</td>\n",
       "    </tr>\n",
       "    <tr>\n",
       "      <th>95</th>\n",
       "      <td>203</td>\n",
       "      <td>Luorong</td>\n",
       "      <td>CN</td>\n",
       "      <td>76.42</td>\n",
       "      <td>broken clouds</td>\n",
       "      <td>24.4058</td>\n",
       "      <td>109.6086</td>\n",
       "      <td>荣立大酒店</td>\n",
       "    </tr>\n",
       "    <tr>\n",
       "      <th>96</th>\n",
       "      <td>204</td>\n",
       "      <td>Joshimath</td>\n",
       "      <td>IN</td>\n",
       "      <td>65.71</td>\n",
       "      <td>broken clouds</td>\n",
       "      <td>30.5667</td>\n",
       "      <td>79.5667</td>\n",
       "      <td>Shivalik Camps &amp; Resort</td>\n",
       "    </tr>\n",
       "    <tr>\n",
       "      <th>97</th>\n",
       "      <td>205</td>\n",
       "      <td>Clarence Town</td>\n",
       "      <td>AU</td>\n",
       "      <td>67.14</td>\n",
       "      <td>clear sky</td>\n",
       "      <td>-32.5833</td>\n",
       "      <td>151.7833</td>\n",
       "      <td>River Downs Cottage</td>\n",
       "    </tr>\n",
       "    <tr>\n",
       "      <th>98</th>\n",
       "      <td>206</td>\n",
       "      <td>Petropavlovka</td>\n",
       "      <td>RU</td>\n",
       "      <td>68.20</td>\n",
       "      <td>few clouds</td>\n",
       "      <td>50.6114</td>\n",
       "      <td>105.3196</td>\n",
       "      <td>Tuyaa</td>\n",
       "    </tr>\n",
       "    <tr>\n",
       "      <th>99</th>\n",
       "      <td>210</td>\n",
       "      <td>Adrar</td>\n",
       "      <td>MR</td>\n",
       "      <td>80.98</td>\n",
       "      <td>few clouds</td>\n",
       "      <td>20.5022</td>\n",
       "      <td>-10.0711</td>\n",
       "      <td>Hotel Touat</td>\n",
       "    </tr>\n",
       "  </tbody>\n",
       "</table>\n",
       "<p>100 rows × 8 columns</p>\n",
       "</div>"
      ],
      "text/plain": [
       "    City_ID           City Country  Max Temp Current Description      Lat  \\\n",
       "0         2          Kapaa      US     82.38          few clouds  22.0752   \n",
       "1         4      Geraldton      AU     70.21    scattered clouds -28.7667   \n",
       "2         5        Tondano      ID     77.09    scattered clouds   1.3038   \n",
       "3         6       Taseyevo      RU     76.10       broken clouds  57.2169   \n",
       "4         7        Labuhan      ID     82.54     overcast clouds  -6.8844   \n",
       "..      ...            ...     ...       ...                 ...      ...   \n",
       "95      203        Luorong      CN     76.42       broken clouds  24.4058   \n",
       "96      204      Joshimath      IN     65.71       broken clouds  30.5667   \n",
       "97      205  Clarence Town      AU     67.14           clear sky -32.5833   \n",
       "98      206  Petropavlovka      RU     68.20          few clouds  50.6114   \n",
       "99      210          Adrar      MR     80.98          few clouds  20.5022   \n",
       "\n",
       "         Lng                           Hotel Name  \n",
       "0  -159.3190  Sheraton Kauai Coconut Beach Resort  \n",
       "1   114.6000            Broadwater Mariner Resort  \n",
       "2   124.9112                          Villa Bella  \n",
       "3    94.8978                  Gostinitsa Taseyevo  \n",
       "4   112.2051                            DoubleFAG  \n",
       "..       ...                                  ...  \n",
       "95  109.6086                                荣立大酒店  \n",
       "96   79.5667              Shivalik Camps & Resort  \n",
       "97  151.7833                  River Downs Cottage  \n",
       "98  105.3196                                Tuyaa  \n",
       "99  -10.0711                          Hotel Touat  \n",
       "\n",
       "[100 rows x 8 columns]"
      ]
     },
     "execution_count": 2,
     "metadata": {},
     "output_type": "execute_result"
    }
   ],
   "source": [
    "# 1. Read the WeatherPy_vacation.csv into a DataFrame.\n",
    "vacation_df = pd.read_csv(\"../Vacation_Search/WeatherPy_vacation.csv\")\n",
    "vacation_df.head(100)"
   ]
  },
  {
   "cell_type": "code",
   "execution_count": 11,
   "metadata": {},
   "outputs": [],
   "source": [
    "# 2. Using the template add the city name, the country code, the weather description and maximum temperature for the city.\n",
    "info_box_template = \"\"\"\n",
    "<dt>Hotel</dt><dd>{Hotel Name}</dd>\n",
    "<dt>City</dt><dd>{City}</dd>\n",
    "<dt>Country</dt><dd>{Country}</dd>\n",
    "<dt>Current Weather</dt><dd>{Current Description} and {Max Temp} °F</dd>\n",
    "</dl>\n",
    "\"\"\"\n",
    "\n",
    "# 3a. Get the data from each row and add it to the formatting template and store the data in a list.\n",
    "hotel_info = [info_box_template.format(**row) for index, row in vacation_df.iterrows()]\n",
    "\n",
    "# 3b. Get the latitude and longitude from each row and store in a new DataFrame.\n",
    "locations = vacation_df[[\"Lat\", \"Lng\"]]"
   ]
  },
  {
   "cell_type": "code",
   "execution_count": 12,
   "metadata": {},
   "outputs": [
    {
     "data": {
      "application/vnd.jupyter.widget-view+json": {
       "model_id": "203e1b4468c041eca996fd3a9b78050f",
       "version_major": 2,
       "version_minor": 0
      },
      "text/plain": [
       "Figure(layout=FigureLayout(height='420px'))"
      ]
     },
     "metadata": {},
     "output_type": "display_data"
    }
   ],
   "source": [
    "# 4a. Add a marker layer for each city to the map.\n",
    "marker_layer = gmaps.marker_layer(locations, info_box_content=hotel_info)\n",
    "\n",
    "# 4b. Display the figure\n",
    "fig = gmaps.figure(center=(30.0, 31.0), zoom_level=1.5)\n",
    "fig.add_layer(marker_layer)\n",
    "fig\n"
   ]
  },
  {
   "cell_type": "code",
   "execution_count": 13,
   "metadata": {},
   "outputs": [],
   "source": [
    "# From the map above pick 4 cities and create a vacation itinerary route to travel between the four cities. \n",
    "# 5. Create DataFrames for each city by filtering the 'vacation_df' using the loc method. \n",
    "# Hint: The starting and ending city should be the same city.\n",
    "\n",
    "vacation_start = vacation_df.loc[vacation_df['City']=='Konongo']\n",
    "vacation_end = vacation_df.loc[vacation_df['City']=='Konongo']\n",
    "vacation_stop1 = vacation_df.loc[vacation_df['City']=='Katsina']\n",
    "vacation_stop2 = vacation_df.loc[vacation_df['City']=='Yagoua'] \n",
    "vacation_stop3 = vacation_df.loc[vacation_df['City']=='Yenagoa']\n",
    "\n",
    "#vacation_start"
   ]
  },
  {
   "cell_type": "code",
   "execution_count": 14,
   "metadata": {},
   "outputs": [],
   "source": [
    "# 6. Get the latitude-longitude pairs as tuples from each city DataFrame using the to_numpy function and list indexing.\n",
    "start = ((vacation_start.to_numpy()[0][5]), (vacation_start.to_numpy()[0][6]))\n",
    "end = ((vacation_end.to_numpy()[0][5]), (vacation_end.to_numpy()[0][6]))\n",
    "stop1 = ((vacation_stop1.to_numpy()[0][5]), (vacation_stop1.to_numpy()[0][6]))\n",
    "stop2 = ((vacation_stop2.to_numpy()[0][5]), (vacation_stop2.to_numpy()[0][6]))\n",
    "stop3 = ((vacation_stop3.to_numpy()[0][5]), (vacation_stop3.to_numpy()[0][6]))"
   ]
  },
  {
   "cell_type": "code",
   "execution_count": 15,
   "metadata": {
    "scrolled": true
   },
   "outputs": [
    {
     "data": {
      "application/vnd.jupyter.widget-view+json": {
       "model_id": "203e1b4468c041eca996fd3a9b78050f",
       "version_major": 2,
       "version_minor": 0
      },
      "text/plain": [
       "Figure(layout=FigureLayout(height='420px'))"
      ]
     },
     "metadata": {},
     "output_type": "display_data"
    }
   ],
   "source": [
    "# 7. Create a direction layer map using the start and end latitude-longitude pairs,\n",
    "# and stop1, stop2, and stop3 as the waypoints. The travel_mode should be \"DRIVING\", \"BICYCLING\", or \"WALKING\".\n",
    "waypoints = [stop1, stop2, stop3]\n",
    "directions = directions_layer = gmaps.directions_layer(start, end, waypoints=waypoints, travel_mode=\"WALKING\")\n",
    "fig.add_layer(directions)\n",
    "fig"
   ]
  },
  {
   "cell_type": "code",
   "execution_count": 16,
   "metadata": {},
   "outputs": [
    {
     "data": {
      "text/html": [
       "<div>\n",
       "<style scoped>\n",
       "    .dataframe tbody tr th:only-of-type {\n",
       "        vertical-align: middle;\n",
       "    }\n",
       "\n",
       "    .dataframe tbody tr th {\n",
       "        vertical-align: top;\n",
       "    }\n",
       "\n",
       "    .dataframe thead th {\n",
       "        text-align: right;\n",
       "    }\n",
       "</style>\n",
       "<table border=\"1\" class=\"dataframe\">\n",
       "  <thead>\n",
       "    <tr style=\"text-align: right;\">\n",
       "      <th></th>\n",
       "      <th>City_ID</th>\n",
       "      <th>City</th>\n",
       "      <th>Country</th>\n",
       "      <th>Max Temp</th>\n",
       "      <th>Current Description</th>\n",
       "      <th>Lat</th>\n",
       "      <th>Lng</th>\n",
       "      <th>Hotel Name</th>\n",
       "    </tr>\n",
       "  </thead>\n",
       "  <tbody>\n",
       "    <tr>\n",
       "      <th>0</th>\n",
       "      <td>293</td>\n",
       "      <td>Konongo</td>\n",
       "      <td>GH</td>\n",
       "      <td>72.95</td>\n",
       "      <td>broken clouds</td>\n",
       "      <td>6.6167</td>\n",
       "      <td>-1.2167</td>\n",
       "      <td>Alice Tee Hotel</td>\n",
       "    </tr>\n",
       "    <tr>\n",
       "      <th>1</th>\n",
       "      <td>310</td>\n",
       "      <td>Katsina</td>\n",
       "      <td>NG</td>\n",
       "      <td>79.70</td>\n",
       "      <td>clear sky</td>\n",
       "      <td>12.9894</td>\n",
       "      <td>7.6006</td>\n",
       "      <td>Katsina Motel</td>\n",
       "    </tr>\n",
       "    <tr>\n",
       "      <th>2</th>\n",
       "      <td>422</td>\n",
       "      <td>Yagoua</td>\n",
       "      <td>CM</td>\n",
       "      <td>80.73</td>\n",
       "      <td>overcast clouds</td>\n",
       "      <td>10.3411</td>\n",
       "      <td>15.2329</td>\n",
       "      <td>Sahel Hotel</td>\n",
       "    </tr>\n",
       "    <tr>\n",
       "      <th>3</th>\n",
       "      <td>148</td>\n",
       "      <td>Yenagoa</td>\n",
       "      <td>NG</td>\n",
       "      <td>76.48</td>\n",
       "      <td>broken clouds</td>\n",
       "      <td>4.9247</td>\n",
       "      <td>6.2642</td>\n",
       "      <td>Aridolf Resort Wellness and Spa</td>\n",
       "    </tr>\n",
       "  </tbody>\n",
       "</table>\n",
       "</div>"
      ],
      "text/plain": [
       "   City_ID     City Country  Max Temp Current Description      Lat      Lng  \\\n",
       "0      293  Konongo      GH     72.95       broken clouds   6.6167  -1.2167   \n",
       "1      310  Katsina      NG     79.70           clear sky  12.9894   7.6006   \n",
       "2      422   Yagoua      CM     80.73     overcast clouds  10.3411  15.2329   \n",
       "3      148  Yenagoa      NG     76.48       broken clouds   4.9247   6.2642   \n",
       "\n",
       "                        Hotel Name  \n",
       "0                  Alice Tee Hotel  \n",
       "1                    Katsina Motel  \n",
       "2                      Sahel Hotel  \n",
       "3  Aridolf Resort Wellness and Spa  "
      ]
     },
     "execution_count": 16,
     "metadata": {},
     "output_type": "execute_result"
    }
   ],
   "source": [
    "# 8. To create a marker layer map between the four cities.\n",
    "#  Combine the four city DataFrames into one DataFrame using the concat() function.\n",
    "itinerary_df = pd.concat([vacation_start, vacation_stop1, vacation_stop2, vacation_stop3],ignore_index=True)\n",
    "itinerary_df"
   ]
  },
  {
   "cell_type": "code",
   "execution_count": 17,
   "metadata": {},
   "outputs": [],
   "source": [
    "# 9 Using the template add hotel name, city name, the country code, the weather description and maximum temperature for the city. \n",
    "info_box_template = \"\"\"\n",
    "<dt>Hotel</dt><dd>{Hotel Name}</dd>\n",
    "<dt>City</dt><dd>{City}</dd>\n",
    "<dt>Country</dt><dd>{Country}</dd>\n",
    "<dt>Current Weather</dt><dd>{Current Description} and {Max Temp} °F</dd>\n",
    "\"\"\"\n",
    "\n",
    "# 10a Get the data from each row and add it to the formatting template and store the data in a list.\n",
    "hotel_info = [info_box_template.format(**row) for index, row in itinerary_df.iterrows()]\n",
    "\n",
    "# 10b. Get the latitude and longitude from each row and store in a new DataFrame.\n",
    "locations = itinerary_df[[\"Lat\", \"Lng\"]]"
   ]
  },
  {
   "cell_type": "code",
   "execution_count": 18,
   "metadata": {},
   "outputs": [
    {
     "data": {
      "application/vnd.jupyter.widget-view+json": {
       "model_id": "4214f9d0da224092bc8b3699f78f0e6e",
       "version_major": 2,
       "version_minor": 0
      },
      "text/plain": [
       "Figure(layout=FigureLayout(height='420px'))"
      ]
     },
     "metadata": {},
     "output_type": "display_data"
    }
   ],
   "source": [
    "# 11a. Add a marker layer for each city to the map.\n",
    "marker_layer = gmaps.marker_layer(locations, info_box_content=hotel_info)\n",
    "\n",
    "# 11b. Display the figure\n",
    "fig = gmaps.figure(center=(30.0, 31.0), zoom_level=1.5)\n",
    "fig.add_layer(marker_layer)\n",
    "fig"
   ]
  },
  {
   "cell_type": "code",
   "execution_count": null,
   "metadata": {},
   "outputs": [],
   "source": []
  }
 ],
 "metadata": {
  "kernelspec": {
   "display_name": "PythonData",
   "language": "python",
   "name": "pythondata"
  },
  "language_info": {
   "codemirror_mode": {
    "name": "ipython",
    "version": 3
   },
   "file_extension": ".py",
   "mimetype": "text/x-python",
   "name": "python",
   "nbconvert_exporter": "python",
   "pygments_lexer": "ipython3",
   "version": "3.9.7"
  },
  "latex_envs": {
   "LaTeX_envs_menu_present": true,
   "autoclose": false,
   "autocomplete": true,
   "bibliofile": "biblio.bib",
   "cite_by": "apalike",
   "current_citInitial": 1,
   "eqLabelWithNumbers": true,
   "eqNumInitial": 1,
   "hotkeys": {
    "equation": "Ctrl-E",
    "itemize": "Ctrl-I"
   },
   "labels_anchors": false,
   "latex_user_defs": false,
   "report_style_numbering": false,
   "user_envs_cfg": false
  }
 },
 "nbformat": 4,
 "nbformat_minor": 2
}
